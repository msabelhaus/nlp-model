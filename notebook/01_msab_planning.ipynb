{
 "cells": [
  {
   "cell_type": "code",
   "execution_count": 9,
   "id": "f6bda9b7",
   "metadata": {},
   "outputs": [],
   "source": [
    "# Modules\n",
    "import sklearn\n",
    "from sklearn.datasets import fetch_20newsgroups\n",
    "from sklearn.model_selection import train_test_split\n",
    "from sklearn.feature_extraction.text import TfidfVectorizer\n",
    "from sklearn.naive_bayes import MultinomialNB, GaussianNB\n",
    "from sklearn.metrics import classification_report\n",
    "import numpy as np"
   ]
  },
  {
   "cell_type": "markdown",
   "id": "23f53ca0",
   "metadata": {},
   "source": [
    "Load and view data"
   ]
  },
  {
   "cell_type": "code",
   "execution_count": 4,
   "id": "6972eabf",
   "metadata": {},
   "outputs": [
    {
     "name": "stdout",
     "output_type": "stream",
     "text": [
      "There are the 20 topics that a message (\"document\") can belong to: ['alt.atheism', 'comp.graphics', 'comp.os.ms-windows.misc', 'comp.sys.ibm.pc.hardware', 'comp.sys.mac.hardware', 'comp.windows.x', 'misc.forsale', 'rec.autos', 'rec.motorcycles', 'rec.sport.baseball', 'rec.sport.hockey', 'sci.crypt', 'sci.electronics', 'sci.med', 'sci.space', 'soc.religion.christian', 'talk.politics.guns', 'talk.politics.mideast', 'talk.politics.misc', 'talk.religion.misc']\n"
     ]
    }
   ],
   "source": [
    "news = fetch_20newsgroups(subset=\"all\")\n",
    "\n",
    "# Extract the messages and topic labels, and view the topic labels\n",
    "text = news[\"data\"]\n",
    "target = news[\"target\"]\n",
    "print(f'There are the 20 topics that a message (\"document\") can belong to: {news[\"target_names\"]}')"
   ]
  },
  {
   "cell_type": "code",
   "execution_count": 7,
   "id": "aae4b1e9",
   "metadata": {},
   "outputs": [
    {
     "name": "stdout",
     "output_type": "stream",
     "text": [
      "A post with topic number \"3\", comp.sys.ibm.pc.hardware\n",
      "\n",
      "From: mblawson@midway.ecn.uoknor.edu (Matthew B Lawson)\n",
      "Subject: Which high-performance VLB video card?\n",
      "Summary: Seek recommendations for VLB video card\n",
      "Nntp-Posting-Host: midway.ecn.uoknor.edu\n",
      "Organization: Engineering Computer Network, University of Oklahoma, Norman, OK, USA\n",
      "Keywords: orchid, stealth, vlb\n",
      "Lines: 21\n",
      "\n",
      "  My brother is in the market for a high-performance video card that supports\n",
      "VESA local bus with 1-2MB RAM.  Does anyone have suggestions/ideas on:\n",
      "\n",
      "  - Diamond Stealth Pro Local Bus\n",
      "\n",
      "  - Orchid Farenheit 1280\n",
      "\n",
      "  - ATI Graphics Ultra Pro\n",
      "\n",
      "  - Any other high-performance VLB card\n",
      "\n",
      "\n",
      "Please post or email.  Thank you!\n",
      "\n",
      "  - Matt\n",
      "\n",
      "-- \n",
      "    |  Matthew B. Lawson <------------> (mblawson@essex.ecn.uoknor.edu)  |   \n",
      "  --+-- \"Now I, Nebuchadnezzar, praise and exalt and glorify the King  --+-- \n",
      "    |   of heaven, because everything he does is right and all his ways  |   \n",
      "    |   are just.\" - Nebuchadnezzar, king of Babylon, 562 B.C.           |   \n",
      "\n"
     ]
    }
   ],
   "source": [
    "# View an example data point\n",
    "i_sample = 1\n",
    "print(f'A post with topic number \"{target[i_sample]}\", {news[\"target_names\"][target[i_sample]]}')\n",
    "print('')\n",
    "print(text[i_sample])"
   ]
  },
  {
   "cell_type": "markdown",
   "id": "913ed005",
   "metadata": {},
   "source": [
    "Split posts into train/test set"
   ]
  },
  {
   "cell_type": "code",
   "execution_count": 8,
   "id": "7bf8355f",
   "metadata": {},
   "outputs": [
    {
     "name": "stdout",
     "output_type": "stream",
     "text": [
      "The training set has 14134 messages.\n",
      "The test set has 4712 messages.\n"
     ]
    }
   ],
   "source": [
    "X_train, X_test, y_train, y_test = train_test_split(text, target, random_state=0)\n",
    "\n",
    "print(f\"The training set has {len(X_train)} messages.\")\n",
    "print(f\"The test set has {len(X_test)} messages.\")"
   ]
  },
  {
   "cell_type": "markdown",
   "id": "c533c980",
   "metadata": {},
   "source": [
    "Create feature representation. I chose to use Term frequency - Inverse Document Frequency (TF-IDF)."
   ]
  },
  {
   "cell_type": "code",
   "execution_count": 16,
   "id": "3fcb1a5c",
   "metadata": {},
   "outputs": [
    {
     "name": "stdout",
     "output_type": "stream",
     "text": [
      "CPU times: user 7.43 s, sys: 195 ms, total: 7.63 s\n",
      "Wall time: 7.69 s\n"
     ]
    }
   ],
   "source": [
    "%%time\n",
    "# Produces a TF-IDF representation of the data\n",
    "\n",
    "tfidfer = TfidfVectorizer()\n",
    "tfidfer.fit(X_train)\n",
    "X_train_tfidf = tfidfer.transform(X_train)\n",
    "X_test_tfidf = tfidfer.transform(X_test)"
   ]
  },
  {
   "cell_type": "code",
   "execution_count": 17,
   "id": "acdb8ad1",
   "metadata": {},
   "outputs": [
    {
     "data": {
      "text/plain": [
       "(14134, 141276)"
      ]
     },
     "execution_count": 17,
     "metadata": {},
     "output_type": "execute_result"
    }
   ],
   "source": [
    "X_train_tfidf.shape"
   ]
  },
  {
   "cell_type": "markdown",
   "id": "7fb327d2",
   "metadata": {},
   "source": [
    "Now let's set up a classifer to predict topics of posts. I chose to use Naive Bayes."
   ]
  },
  {
   "cell_type": "code",
   "execution_count": 19,
   "id": "63764003",
   "metadata": {},
   "outputs": [
    {
     "name": "stdout",
     "output_type": "stream",
     "text": [
      "Results for MBD\n",
      "------------------------------------------------------------\n",
      "              precision    recall  f1-score   support\n",
      "\n",
      "           0       0.88      0.73      0.80       205\n",
      "           1       0.86      0.76      0.81       245\n",
      "           2       0.84      0.81      0.82       250\n",
      "           3       0.73      0.87      0.80       243\n",
      "           4       0.94      0.82      0.88       255\n",
      "           5       0.91      0.85      0.88       240\n",
      "           6       0.94      0.74      0.83       249\n",
      "           7       0.84      0.91      0.88       219\n",
      "           8       0.96      0.93      0.95       246\n",
      "           9       0.91      0.97      0.94       227\n",
      "          10       0.95      0.97      0.96       287\n",
      "          11       0.73      0.98      0.83       234\n",
      "          12       0.90      0.76      0.82       247\n",
      "          13       0.97      0.89      0.93       250\n",
      "          14       0.89      0.97      0.93       240\n",
      "          15       0.55      0.97      0.70       250\n",
      "          16       0.72      0.98      0.83       211\n",
      "          17       0.94      0.97      0.96       246\n",
      "          18       0.99      0.56      0.72       209\n",
      "          19       0.97      0.18      0.30       159\n",
      "\n",
      "    accuracy                           0.84      4712\n",
      "   macro avg       0.87      0.83      0.83      4712\n",
      "weighted avg       0.87      0.84      0.84      4712\n",
      "\n",
      "------------------------------------------------------------\n"
     ]
    }
   ],
   "source": [
    "# Create a Multinomial Naive Bayes model and saved it to `mnb`\n",
    "# Fit the 'mnb' model to the training features and labels, for\n",
    "# the BoW, TF-IDF, or hashing features in this loop.\n",
    "# YOUR CODE HERE\n",
    "mnb = MultinomialNB()\n",
    "mnb.fit(X_train_tfidf, y_train)\n",
    "\n",
    "y_pred = mnb.predict(X_test_tfidf)\n",
    "print(f\"Results for MBD\")\n",
    "print(\"-\"*60)\n",
    "print(classification_report(y_test, y_pred))\n",
    "print(\"-\"*60)"
   ]
  },
  {
   "cell_type": "code",
   "execution_count": null,
   "id": "7b31f25f",
   "metadata": {},
   "outputs": [],
   "source": []
  }
 ],
 "metadata": {
  "kernelspec": {
   "display_name": "Python 3",
   "language": "python",
   "name": "python3"
  },
  "language_info": {
   "codemirror_mode": {
    "name": "ipython",
    "version": 3
   },
   "file_extension": ".py",
   "mimetype": "text/x-python",
   "name": "python",
   "nbconvert_exporter": "python",
   "pygments_lexer": "ipython3",
   "version": "3.8.8"
  }
 },
 "nbformat": 4,
 "nbformat_minor": 5
}
